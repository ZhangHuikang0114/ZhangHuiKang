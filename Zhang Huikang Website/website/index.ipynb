{
  "cells": [
    {
      "cell_type": "markdown",
      "metadata": {},
      "source": [
        "# Zhang Huikang\n",
        "\n",
        "# my website!\n",
        "\n",
        "## —–BSU，EM24-A，Zhang Huikang\n",
        "\n",
        "### —-I’m from Inner Mongolia, majoring in music performance, and I love to sing."
      ],
      "id": "9ecd597e-0b06-45ae-ab76-0dbf2d17ec36"
    }
  ],
  "nbformat": 4,
  "nbformat_minor": 5,
  "metadata": {
    "kernelspec": {
      "display_name": "Python 3",
      "language": "python",
      "name": "python3"
    }
  }
}