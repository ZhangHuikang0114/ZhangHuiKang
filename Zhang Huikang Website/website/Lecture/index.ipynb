{
  "cells": [
    {
      "cell_type": "markdown",
      "metadata": {},
      "source": [
        "# Homeworks\n",
        "\n",
        "### [homework 1 for lecture 3](homework%201%20for%20lecture%203.html)\n",
        "\n",
        "### [homework 2 for lecture 3](homework%201%20for%20lecture%203.html)\n",
        "\n",
        "### [homework for lecture 2-pet names](homework%20for%20lecture%202-pet%20names.html)\n",
        "\n",
        "### [homework for lecture 4](homework%20for%20lecture%204.html)\n",
        "\n",
        "### [homework for lecture 5](homework%20for%20lecture%205.html)"
      ],
      "id": "dcf2e229-8256-421f-877d-4ed26d1e785c"
    }
  ],
  "nbformat": 4,
  "nbformat_minor": 5,
  "metadata": {
    "kernelspec": {
      "display_name": "Python 3",
      "language": "python",
      "name": "python3"
    }
  }
}