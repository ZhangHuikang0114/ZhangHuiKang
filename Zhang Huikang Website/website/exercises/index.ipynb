{
  "cells": [
    {
      "cell_type": "markdown",
      "metadata": {},
      "source": [
        "# Exercises\n",
        "\n",
        "### [Practice 1 Climate change](Practice1.html)\n",
        "\n",
        "### [Practice2 empirical](practice2.html)\n",
        "\n",
        "### [Practice 3 Extract PDF and movie](practice3.html)\n",
        "\n",
        "### [Practice 4 IMDb and Douban](practice4.html)"
      ],
      "id": "a1887583-9d95-439d-94dc-2fe98ba04615"
    }
  ],
  "nbformat": 4,
  "nbformat_minor": 5,
  "metadata": {
    "kernelspec": {
      "display_name": "Python 3",
      "language": "python",
      "name": "python3"
    }
  }
}